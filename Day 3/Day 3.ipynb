{
 "cells": [
  {
   "cell_type": "markdown",
   "id": "841658a5",
   "metadata": {},
   "source": [
    "# List and List Manipulations"
   ]
  },
  {
   "cell_type": "code",
   "execution_count": 1,
   "id": "86198d03",
   "metadata": {},
   "outputs": [],
   "source": [
    "my_list = ['john','adam','mark']\n",
    "# my_list = [1, 'john', 3.2, 1+2j]"
   ]
  },
  {
   "cell_type": "markdown",
   "id": "697f4fb8",
   "metadata": {},
   "source": [
    "Indexing in list"
   ]
  },
  {
   "cell_type": "code",
   "execution_count": 2,
   "id": "f6163b67",
   "metadata": {},
   "outputs": [
    {
     "data": {
      "text/plain": [
       "'adam'"
      ]
     },
     "execution_count": 2,
     "metadata": {},
     "output_type": "execute_result"
    }
   ],
   "source": [
    "my_list[1]"
   ]
  },
  {
   "cell_type": "code",
   "execution_count": 3,
   "id": "369317ee",
   "metadata": {},
   "outputs": [
    {
     "data": {
      "text/plain": [
       "'john'"
      ]
     },
     "execution_count": 3,
     "metadata": {},
     "output_type": "execute_result"
    }
   ],
   "source": [
    "my_list[0]"
   ]
  },
  {
   "cell_type": "markdown",
   "id": "0d92fd1e",
   "metadata": {},
   "source": [
    "Changing List"
   ]
  },
  {
   "cell_type": "code",
   "execution_count": 4,
   "id": "d7235a64",
   "metadata": {},
   "outputs": [
    {
     "data": {
      "text/plain": [
       "['john', 'eve', 'mark']"
      ]
     },
     "execution_count": 4,
     "metadata": {},
     "output_type": "execute_result"
    }
   ],
   "source": [
    "my_list[1] = 'eve'\n",
    "my_list"
   ]
  },
  {
   "cell_type": "markdown",
   "id": "3dee5572",
   "metadata": {},
   "source": [
    "List can have duplicates"
   ]
  },
  {
   "cell_type": "code",
   "execution_count": 5,
   "id": "ce3d0092",
   "metadata": {},
   "outputs": [
    {
     "data": {
      "text/plain": [
       "['talha', 'afaq', 'ibrahim', 'faizy', 'Ahsan', 'Ahsan']"
      ]
     },
     "execution_count": 5,
     "metadata": {},
     "output_type": "execute_result"
    }
   ],
   "source": [
    "names = ['talha','afaq','ibrahim','faizy','Ahsan','Ahsan']\n",
    "names"
   ]
  },
  {
   "cell_type": "markdown",
   "id": "b08d8108",
   "metadata": {},
   "source": [
    "Length of List"
   ]
  },
  {
   "cell_type": "code",
   "execution_count": 7,
   "id": "5141c7a7",
   "metadata": {},
   "outputs": [
    {
     "data": {
      "text/plain": [
       "6"
      ]
     },
     "execution_count": 7,
     "metadata": {},
     "output_type": "execute_result"
    }
   ],
   "source": [
    "len(names)"
   ]
  },
  {
   "cell_type": "markdown",
   "id": "b03750a8",
   "metadata": {},
   "source": [
    "last item index will be one less than the length of the list"
   ]
  },
  {
   "cell_type": "code",
   "execution_count": 37,
   "id": "46bba8af",
   "metadata": {},
   "outputs": [
    {
     "name": "stdout",
     "output_type": "stream",
     "text": [
      "talha\n",
      "afaq\n",
      "ibrahim\n",
      "faizy\n",
      "Ahsan\n",
      "Ahsan\n"
     ]
    }
   ],
   "source": [
    "for name in names:\n",
    "    print(name)"
   ]
  },
  {
   "cell_type": "code",
   "execution_count": 15,
   "id": "ecde0948",
   "metadata": {},
   "outputs": [
    {
     "name": "stdout",
     "output_type": "stream",
     "text": [
      "1\n",
      "talha\n",
      "2\n",
      "afaq\n",
      "3\n",
      "ibrahim\n",
      "4\n",
      "faizy\n",
      "5\n",
      "Ahsan\n",
      "6\n",
      "Ahsan\n"
     ]
    }
   ],
   "source": [
    "for index in range(1,len(names)+1):\n",
    "    print(index)\n",
    "    print(names[index-1])"
   ]
  },
  {
   "cell_type": "code",
   "execution_count": 16,
   "id": "56380355",
   "metadata": {},
   "outputs": [
    {
     "data": {
      "text/plain": [
       "list"
      ]
     },
     "execution_count": 16,
     "metadata": {},
     "output_type": "execute_result"
    }
   ],
   "source": [
    "type(names)"
   ]
  },
  {
   "cell_type": "code",
   "execution_count": 17,
   "id": "fa13bd7c",
   "metadata": {},
   "outputs": [],
   "source": [
    "numbers = list((1,2,3))\n",
    "empty_list = list()"
   ]
  },
  {
   "cell_type": "code",
   "execution_count": 18,
   "id": "94ed6a9e",
   "metadata": {},
   "outputs": [
    {
     "data": {
      "text/plain": [
       "[1, 2, 3]"
      ]
     },
     "execution_count": 18,
     "metadata": {},
     "output_type": "execute_result"
    }
   ],
   "source": [
    "numbers"
   ]
  },
  {
   "cell_type": "code",
   "execution_count": 19,
   "id": "0f118f1c",
   "metadata": {},
   "outputs": [
    {
     "data": {
      "text/plain": [
       "[]"
      ]
     },
     "execution_count": 19,
     "metadata": {},
     "output_type": "execute_result"
    }
   ],
   "source": [
    "empty_list"
   ]
  },
  {
   "cell_type": "markdown",
   "id": "e1119220",
   "metadata": {},
   "source": [
    "slicing in list - lower limit will be inclusive while upper limit will be exclusive"
   ]
  },
  {
   "cell_type": "code",
   "execution_count": 20,
   "id": "03e083fc",
   "metadata": {},
   "outputs": [
    {
     "data": {
      "text/plain": [
       "[1, 'john']"
      ]
     },
     "execution_count": 20,
     "metadata": {},
     "output_type": "execute_result"
    }
   ],
   "source": [
    "my_list = [1, 'john', 3.2, 1+2j]\n",
    "my_list[0:2]"
   ]
  },
  {
   "cell_type": "code",
   "execution_count": 21,
   "id": "6ffbf22d",
   "metadata": {},
   "outputs": [
    {
     "data": {
      "text/plain": [
       "['john', 3.2]"
      ]
     },
     "execution_count": 21,
     "metadata": {},
     "output_type": "execute_result"
    }
   ],
   "source": [
    "my_list[1:3]"
   ]
  },
  {
   "cell_type": "code",
   "execution_count": 25,
   "id": "b208ff1d",
   "metadata": {},
   "outputs": [
    {
     "data": {
      "text/plain": [
       "['john', 3.2, (1+2j)]"
      ]
     },
     "execution_count": 25,
     "metadata": {},
     "output_type": "execute_result"
    }
   ],
   "source": [
    "my_list[1:5]"
   ]
  },
  {
   "cell_type": "code",
   "execution_count": 29,
   "id": "f74e70d0",
   "metadata": {},
   "outputs": [
    {
     "data": {
      "text/plain": [
       "[3.2, (1+2j)]"
      ]
     },
     "execution_count": 29,
     "metadata": {},
     "output_type": "execute_result"
    }
   ],
   "source": [
    "my_list[2:]"
   ]
  },
  {
   "cell_type": "code",
   "execution_count": 27,
   "id": "e6f58ae7",
   "metadata": {},
   "outputs": [
    {
     "data": {
      "text/plain": [
       "[1, 'john', 3.2]"
      ]
     },
     "execution_count": 27,
     "metadata": {},
     "output_type": "execute_result"
    }
   ],
   "source": [
    "my_list[:3]"
   ]
  },
  {
   "cell_type": "code",
   "execution_count": 28,
   "id": "8e7e66f3",
   "metadata": {},
   "outputs": [
    {
     "data": {
      "text/plain": [
       "[1, 'john', 3.2, (1+2j)]"
      ]
     },
     "execution_count": 28,
     "metadata": {},
     "output_type": "execute_result"
    }
   ],
   "source": [
    "my_list[:] or my_list"
   ]
  },
  {
   "cell_type": "markdown",
   "id": "6893114d",
   "metadata": {},
   "source": [
    "Negative Indexing or reverse indexing "
   ]
  },
  {
   "cell_type": "code",
   "execution_count": 30,
   "id": "db830c60",
   "metadata": {},
   "outputs": [],
   "source": [
    "my_list = [1, 'john', 3.2, 1+2j]"
   ]
  },
  {
   "cell_type": "markdown",
   "id": "ad863577",
   "metadata": {},
   "source": [
    "my_list [-lower limit : -upper limit ]"
   ]
  },
  {
   "cell_type": "code",
   "execution_count": 31,
   "id": "76ab84b7",
   "metadata": {},
   "outputs": [
    {
     "data": {
      "text/plain": [
       "['john', 3.2]"
      ]
     },
     "execution_count": 31,
     "metadata": {},
     "output_type": "execute_result"
    }
   ],
   "source": [
    "my_list [-3:-1]"
   ]
  },
  {
   "cell_type": "code",
   "execution_count": 32,
   "id": "8d563d71",
   "metadata": {},
   "outputs": [
    {
     "data": {
      "text/plain": [
       "['john', 3.2]"
      ]
     },
     "execution_count": 32,
     "metadata": {},
     "output_type": "execute_result"
    }
   ],
   "source": [
    "my_list [1:-1]"
   ]
  },
  {
   "cell_type": "code",
   "execution_count": 33,
   "id": "140ba4cc",
   "metadata": {},
   "outputs": [
    {
     "data": {
      "text/plain": [
       "[1, 'john', 3.2]"
      ]
     },
     "execution_count": 33,
     "metadata": {},
     "output_type": "execute_result"
    }
   ],
   "source": [
    "my_list[-4:3]"
   ]
  },
  {
   "cell_type": "code",
   "execution_count": 34,
   "id": "a6c1fc52",
   "metadata": {},
   "outputs": [
    {
     "data": {
      "text/plain": [
       "[1, 3.2]"
      ]
     },
     "execution_count": 34,
     "metadata": {},
     "output_type": "execute_result"
    }
   ],
   "source": [
    "[my_list[0],my_list[2]]"
   ]
  },
  {
   "cell_type": "code",
   "execution_count": 35,
   "id": "4a800121",
   "metadata": {},
   "outputs": [
    {
     "data": {
      "text/plain": [
       "['john', 3.2, (1+2j)]"
      ]
     },
     "execution_count": 35,
     "metadata": {},
     "output_type": "execute_result"
    }
   ],
   "source": [
    "my_list[1:]"
   ]
  },
  {
   "cell_type": "code",
   "execution_count": 36,
   "id": "0bd59529",
   "metadata": {},
   "outputs": [
    {
     "data": {
      "text/plain": [
       "(1+2j)"
      ]
     },
     "execution_count": 36,
     "metadata": {},
     "output_type": "execute_result"
    }
   ],
   "source": [
    "my_list[-1]"
   ]
  },
  {
   "cell_type": "code",
   "execution_count": null,
   "id": "8e04b25c",
   "metadata": {},
   "outputs": [],
   "source": []
  },
  {
   "cell_type": "markdown",
   "id": "479ee02f",
   "metadata": {},
   "source": [
    "# Functions"
   ]
  },
  {
   "cell_type": "markdown",
   "id": "128f36fe",
   "metadata": {},
   "source": [
    "definition of a function"
   ]
  },
  {
   "cell_type": "code",
   "execution_count": 38,
   "id": "b82c63cf",
   "metadata": {},
   "outputs": [],
   "source": [
    "def functionname():\n",
    "    print('this is my function')"
   ]
  },
  {
   "cell_type": "markdown",
   "id": "f6173643",
   "metadata": {},
   "source": [
    "calling a function"
   ]
  },
  {
   "cell_type": "code",
   "execution_count": 39,
   "id": "4becd1ef",
   "metadata": {},
   "outputs": [
    {
     "name": "stdout",
     "output_type": "stream",
     "text": [
      "this is my function\n"
     ]
    }
   ],
   "source": [
    "functionname()"
   ]
  },
  {
   "cell_type": "markdown",
   "id": "e1fd1615",
   "metadata": {},
   "source": [
    "passing arguments to the function"
   ]
  },
  {
   "cell_type": "code",
   "execution_count": 41,
   "id": "3239670a",
   "metadata": {},
   "outputs": [
    {
     "name": "stdout",
     "output_type": "stream",
     "text": [
      "Sum of a and b is 3\n"
     ]
    }
   ],
   "source": [
    "def add(a,b):\n",
    "    c= a+b\n",
    "    print('Sum of a and b is '+str(c))\n",
    "\n",
    "add(1,2)"
   ]
  },
  {
   "cell_type": "code",
   "execution_count": null,
   "id": "d7c38135",
   "metadata": {},
   "outputs": [],
   "source": [
    "def add(a,b,c,d,e,f,g,h,i,j................................)"
   ]
  },
  {
   "cell_type": "code",
   "execution_count": 45,
   "id": "75eb1c17",
   "metadata": {},
   "outputs": [
    {
     "ename": "TypeError",
     "evalue": "add() missing 1 required positional argument: 'b'",
     "output_type": "error",
     "traceback": [
      "\u001b[1;31m---------------------------------------------------------------------------\u001b[0m",
      "\u001b[1;31mTypeError\u001b[0m                                 Traceback (most recent call last)",
      "Input \u001b[1;32mIn [45]\u001b[0m, in \u001b[0;36m<cell line: 1>\u001b[1;34m()\u001b[0m\n\u001b[1;32m----> 1\u001b[0m \u001b[43madd\u001b[49m\u001b[43m(\u001b[49m\u001b[38;5;241;43m1\u001b[39;49m\u001b[43m)\u001b[49m\n",
      "\u001b[1;31mTypeError\u001b[0m: add() missing 1 required positional argument: 'b'"
     ]
    }
   ],
   "source": [
    "add(1)"
   ]
  },
  {
   "cell_type": "code",
   "execution_count": 43,
   "id": "93d050ae",
   "metadata": {},
   "outputs": [
    {
     "ename": "TypeError",
     "evalue": "add() missing 1 required positional argument: 'a'",
     "output_type": "error",
     "traceback": [
      "\u001b[1;31m---------------------------------------------------------------------------\u001b[0m",
      "\u001b[1;31mTypeError\u001b[0m                                 Traceback (most recent call last)",
      "Input \u001b[1;32mIn [43]\u001b[0m, in \u001b[0;36m<cell line: 1>\u001b[1;34m()\u001b[0m\n\u001b[1;32m----> 1\u001b[0m \u001b[43madd\u001b[49m\u001b[43m(\u001b[49m\u001b[43mb\u001b[49m\u001b[38;5;241;43m=\u001b[39;49m\u001b[38;5;241;43m1\u001b[39;49m\u001b[43m)\u001b[49m\n",
      "\u001b[1;31mTypeError\u001b[0m: add() missing 1 required positional argument: 'a'"
     ]
    }
   ],
   "source": [
    "add(b=1)"
   ]
  },
  {
   "cell_type": "code",
   "execution_count": 44,
   "id": "19fd1928",
   "metadata": {},
   "outputs": [
    {
     "ename": "SyntaxError",
     "evalue": "positional argument follows keyword argument (568216527.py, line 1)",
     "output_type": "error",
     "traceback": [
      "\u001b[1;36m  Input \u001b[1;32mIn [44]\u001b[1;36m\u001b[0m\n\u001b[1;33m    add(b=1,2)\u001b[0m\n\u001b[1;37m             ^\u001b[0m\n\u001b[1;31mSyntaxError\u001b[0m\u001b[1;31m:\u001b[0m positional argument follows keyword argument\n"
     ]
    }
   ],
   "source": [
    "add(b=1,2)"
   ]
  },
  {
   "cell_type": "code",
   "execution_count": 61,
   "id": "e0291b0f",
   "metadata": {},
   "outputs": [
    {
     "data": {
      "text/plain": [
       "3"
      ]
     },
     "execution_count": 61,
     "metadata": {},
     "output_type": "execute_result"
    }
   ],
   "source": [
    "add(2,b=1)"
   ]
  },
  {
   "cell_type": "markdown",
   "id": "0c07c47a",
   "metadata": {},
   "source": [
    "you cannot pass a postional argument after keyword argument\n",
    "you always have to pass the positional argument first and keyword arguments after it"
   ]
  },
  {
   "cell_type": "code",
   "execution_count": 46,
   "id": "47d5c8dd",
   "metadata": {},
   "outputs": [
    {
     "name": "stdout",
     "output_type": "stream",
     "text": [
      "Sum of a and b is 3\n"
     ]
    }
   ],
   "source": [
    "add(b=1,a=2)"
   ]
  },
  {
   "cell_type": "code",
   "execution_count": null,
   "id": "107d1f4e",
   "metadata": {},
   "outputs": [],
   "source": [
    "Arbitrary Arguments"
   ]
  },
  {
   "cell_type": "code",
   "execution_count": 49,
   "id": "7f595d26",
   "metadata": {},
   "outputs": [
    {
     "name": "stdout",
     "output_type": "stream",
     "text": [
      "3\n"
     ]
    }
   ],
   "source": [
    "#a= args[0]\n",
    "#b= args[1]\n",
    "#c= args[2]\n",
    "#d= args[3]\n",
    "\n",
    "\n",
    "def func(*args):\n",
    "    if args[2]==1:\n",
    "        result=args[0]+args[1]\n",
    "    else:\n",
    "        result=args[0]+args[3]\n",
    "    print(result)\n",
    "\n",
    "func(1,2,1)"
   ]
  },
  {
   "cell_type": "code",
   "execution_count": 51,
   "id": "90f9d964",
   "metadata": {},
   "outputs": [
    {
     "name": "stdout",
     "output_type": "stream",
     "text": [
      "john 3rd 3.56\n"
     ]
    }
   ],
   "source": [
    "def student(name,clas,gpa):\n",
    "    print(name,clas,gpa)\n",
    "\n",
    "student(clas='3rd',name='john',gpa=3.56)"
   ]
  },
  {
   "cell_type": "code",
   "execution_count": 53,
   "id": "e8fd9283",
   "metadata": {},
   "outputs": [
    {
     "name": "stdout",
     "output_type": "stream",
     "text": [
      "john 3rd 3.56\n"
     ]
    }
   ],
   "source": [
    "# arbitrary keyword argument\n",
    "\n",
    "def func(**args):\n",
    "    print(args['name'],args['clas'],args['gpa'])\n",
    "\n",
    "func(clas='3rd',name='john',gpa=3.56)"
   ]
  },
  {
   "cell_type": "code",
   "execution_count": 55,
   "id": "c19b732f",
   "metadata": {},
   "outputs": [
    {
     "name": "stdout",
     "output_type": "stream",
     "text": [
      "my name is john\n"
     ]
    }
   ],
   "source": [
    "def func(name='john'):\n",
    "    print('my name is '+name)\n",
    "    \n",
    "    \n",
    "func()\n",
    "    "
   ]
  },
  {
   "cell_type": "code",
   "execution_count": 56,
   "id": "84d13f8d",
   "metadata": {},
   "outputs": [
    {
     "name": "stdout",
     "output_type": "stream",
     "text": [
      "my name is adam\n"
     ]
    }
   ],
   "source": [
    "func('adam')"
   ]
  },
  {
   "cell_type": "code",
   "execution_count": 60,
   "id": "260786d1",
   "metadata": {},
   "outputs": [
    {
     "name": "stdout",
     "output_type": "stream",
     "text": [
      "Sum of a and b is 3\n"
     ]
    }
   ],
   "source": [
    "# returning a value from function\n",
    "\n",
    "def add(a,b):\n",
    "    c=a+b\n",
    "    return c\n",
    "    \n",
    "result=add(1,2)\n",
    "print('Sum of a and b is '+str(result))\n"
   ]
  },
  {
   "cell_type": "code",
   "execution_count": 62,
   "id": "27b30a67",
   "metadata": {},
   "outputs": [
    {
     "data": {
      "text/plain": [
       "3"
      ]
     },
     "execution_count": 62,
     "metadata": {},
     "output_type": "execute_result"
    }
   ],
   "source": [
    "add(1,2)"
   ]
  },
  {
   "cell_type": "code",
   "execution_count": null,
   "id": "5b94bd2c",
   "metadata": {},
   "outputs": [],
   "source": []
  }
 ],
 "metadata": {
  "kernelspec": {
   "display_name": "Python 3 (ipykernel)",
   "language": "python",
   "name": "python3"
  },
  "language_info": {
   "codemirror_mode": {
    "name": "ipython",
    "version": 3
   },
   "file_extension": ".py",
   "mimetype": "text/x-python",
   "name": "python",
   "nbconvert_exporter": "python",
   "pygments_lexer": "ipython3",
   "version": "3.9.13"
  }
 },
 "nbformat": 4,
 "nbformat_minor": 5
}

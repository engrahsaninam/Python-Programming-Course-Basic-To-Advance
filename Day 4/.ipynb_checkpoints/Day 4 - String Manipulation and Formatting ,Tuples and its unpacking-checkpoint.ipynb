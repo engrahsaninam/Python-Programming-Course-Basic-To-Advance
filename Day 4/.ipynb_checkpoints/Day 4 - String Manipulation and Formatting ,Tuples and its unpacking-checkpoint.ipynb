{
 "cells": [
  {
   "cell_type": "markdown",
   "id": "13d2f6a3",
   "metadata": {},
   "source": [
    "# Strings "
   ]
  },
  {
   "cell_type": "markdown",
   "id": "e143d105",
   "metadata": {},
   "source": [
    "single line string"
   ]
  },
  {
   "cell_type": "code",
   "execution_count": 1,
   "id": "182d772b",
   "metadata": {},
   "outputs": [
    {
     "data": {
      "text/plain": [
       "'Hello'"
      ]
     },
     "execution_count": 1,
     "metadata": {},
     "output_type": "execute_result"
    }
   ],
   "source": [
    "'Hello world ,Its my first string in python'"
   ]
  },
  {
   "cell_type": "code",
   "execution_count": 2,
   "id": "b40b5db5",
   "metadata": {},
   "outputs": [
    {
     "data": {
      "text/plain": [
       "'Hello'"
      ]
     },
     "execution_count": 2,
     "metadata": {},
     "output_type": "execute_result"
    }
   ],
   "source": [
    "\"Hello\""
   ]
  },
  {
   "cell_type": "markdown",
   "id": "e1f25850",
   "metadata": {},
   "source": [
    "Multi line string"
   ]
  },
  {
   "cell_type": "code",
   "execution_count": 3,
   "id": "f98aed7e",
   "metadata": {},
   "outputs": [
    {
     "data": {
      "text/plain": [
       "'Hello world\\nits my first string\\nin python'"
      ]
     },
     "execution_count": 3,
     "metadata": {},
     "output_type": "execute_result"
    }
   ],
   "source": [
    "\"\"\"Hello world\n",
    "its my first string\n",
    "in python\"\"\"\n",
    "\n",
    "'''Hello world\n",
    "its my first string\n",
    "in python'''"
   ]
  },
  {
   "cell_type": "code",
   "execution_count": 5,
   "id": "012ae3d7",
   "metadata": {},
   "outputs": [
    {
     "data": {
      "text/plain": [
       "'h'"
      ]
     },
     "execution_count": 5,
     "metadata": {},
     "output_type": "execute_result"
    }
   ],
   "source": [
    "mystr='hello world'\n",
    "mystr[0]"
   ]
  },
  {
   "cell_type": "markdown",
   "id": "57deaabf",
   "metadata": {},
   "source": [
    "Looping on string"
   ]
  },
  {
   "cell_type": "code",
   "execution_count": 6,
   "id": "ef4b6023",
   "metadata": {},
   "outputs": [
    {
     "name": "stdout",
     "output_type": "stream",
     "text": [
      "h\n",
      "e\n",
      "l\n",
      "l\n",
      "o\n",
      " \n",
      "w\n",
      "o\n",
      "r\n",
      "l\n",
      "d\n"
     ]
    }
   ],
   "source": [
    "mystr='hello world'\n",
    "for char in mystr:\n",
    "    print(char)"
   ]
  },
  {
   "cell_type": "markdown",
   "id": "105f1c30",
   "metadata": {},
   "source": [
    "length of a string "
   ]
  },
  {
   "cell_type": "code",
   "execution_count": 8,
   "id": "cba92d18",
   "metadata": {},
   "outputs": [
    {
     "data": {
      "text/plain": [
       "52"
      ]
     },
     "execution_count": 8,
     "metadata": {},
     "output_type": "execute_result"
    }
   ],
   "source": [
    "mystr='hey this is a string , we are testing len() function'\n",
    "len(mystr)"
   ]
  },
  {
   "cell_type": "markdown",
   "id": "034186b7",
   "metadata": {},
   "source": [
    "Checking data in a string "
   ]
  },
  {
   "cell_type": "code",
   "execution_count": 12,
   "id": "a7e4f88b",
   "metadata": {},
   "outputs": [
    {
     "data": {
      "text/plain": [
       "False"
      ]
     },
     "execution_count": 12,
     "metadata": {},
     "output_type": "execute_result"
    }
   ],
   "source": [
    "mystr= 'his name is ahmad , he is a good boy , he is class fellow of ali'\n",
    "# print('ahmad' in mystr)\n",
    "'Ahmad' in mystr"
   ]
  },
  {
   "cell_type": "code",
   "execution_count": 13,
   "id": "4aec89c5",
   "metadata": {},
   "outputs": [
    {
     "name": "stdout",
     "output_type": "stream",
     "text": [
      "Ahmad is not in the text\n"
     ]
    }
   ],
   "source": [
    "mystr= 'his name is ahmad , he is a good boy , he is class fellow of ali'\n",
    "\n",
    "if 'Ahmad' not in mystr:\n",
    "    print('Ahmad is not in the text')"
   ]
  },
  {
   "cell_type": "markdown",
   "id": "2a23e254",
   "metadata": {},
   "source": [
    "slicing in string"
   ]
  },
  {
   "cell_type": "code",
   "execution_count": 14,
   "id": "2d6967d2",
   "metadata": {},
   "outputs": [
    {
     "data": {
      "text/plain": [
       "'Hello'"
      ]
     },
     "execution_count": 14,
     "metadata": {},
     "output_type": "execute_result"
    }
   ],
   "source": [
    "mystr = 'Hello World'\n",
    "\n",
    "# mystr[lower limit (inclusive) : upper limit (exclusive)]\n",
    "\n",
    "mystr[0:5]"
   ]
  },
  {
   "cell_type": "code",
   "execution_count": 15,
   "id": "90999352",
   "metadata": {},
   "outputs": [
    {
     "data": {
      "text/plain": [
       "'lo World'"
      ]
     },
     "execution_count": 15,
     "metadata": {},
     "output_type": "execute_result"
    }
   ],
   "source": [
    "mystr[3:]"
   ]
  },
  {
   "cell_type": "code",
   "execution_count": 16,
   "id": "6f69060e",
   "metadata": {},
   "outputs": [
    {
     "data": {
      "text/plain": [
       "' Wor'"
      ]
     },
     "execution_count": 16,
     "metadata": {},
     "output_type": "execute_result"
    }
   ],
   "source": [
    "mystr[5:-2]"
   ]
  },
  {
   "cell_type": "markdown",
   "id": "44dcf7be",
   "metadata": {},
   "source": [
    "Modifying Strings"
   ]
  },
  {
   "cell_type": "code",
   "execution_count": 17,
   "id": "ec5634f4",
   "metadata": {},
   "outputs": [
    {
     "data": {
      "text/plain": [
       "'HAMZA IS A GOOD BOY'"
      ]
     },
     "execution_count": 17,
     "metadata": {},
     "output_type": "execute_result"
    }
   ],
   "source": [
    "mystr = 'Hamza is a good boy'\n",
    "\n",
    "mystr.upper()"
   ]
  },
  {
   "cell_type": "code",
   "execution_count": 18,
   "id": "c94d4ff3",
   "metadata": {},
   "outputs": [
    {
     "data": {
      "text/plain": [
       "'hamza is a good boy'"
      ]
     },
     "execution_count": 18,
     "metadata": {},
     "output_type": "execute_result"
    }
   ],
   "source": [
    "mystr.lower()"
   ]
  },
  {
   "cell_type": "code",
   "execution_count": 19,
   "id": "7b7419e7",
   "metadata": {},
   "outputs": [
    {
     "data": {
      "text/plain": [
       "'Hamza Is A Good Boy'"
      ]
     },
     "execution_count": 19,
     "metadata": {},
     "output_type": "execute_result"
    }
   ],
   "source": [
    "mystr.title()"
   ]
  },
  {
   "cell_type": "code",
   "execution_count": 20,
   "id": "4acc7940",
   "metadata": {},
   "outputs": [
    {
     "data": {
      "text/plain": [
       "'Hamza is a good boy'"
      ]
     },
     "execution_count": 20,
     "metadata": {},
     "output_type": "execute_result"
    }
   ],
   "source": [
    "mystr = '  Hamza is a good boy      '\n",
    "mystr.strip()"
   ]
  },
  {
   "cell_type": "code",
   "execution_count": 21,
   "id": "1e93ef3e",
   "metadata": {},
   "outputs": [
    {
     "data": {
      "text/plain": [
       "'  Hamza is a good boy'"
      ]
     },
     "execution_count": 21,
     "metadata": {},
     "output_type": "execute_result"
    }
   ],
   "source": [
    "mystr.rstrip()"
   ]
  },
  {
   "cell_type": "code",
   "execution_count": 22,
   "id": "7a6bfe56",
   "metadata": {},
   "outputs": [
    {
     "data": {
      "text/plain": [
       "'Hamza is a good boy      '"
      ]
     },
     "execution_count": 22,
     "metadata": {},
     "output_type": "execute_result"
    }
   ],
   "source": [
    "mystr.lstrip()"
   ]
  },
  {
   "cell_type": "code",
   "execution_count": 23,
   "id": "45847fab",
   "metadata": {},
   "outputs": [
    {
     "data": {
      "text/plain": [
       "['phyiscs', 'maths', 'english', 'bio']"
      ]
     },
     "execution_count": 23,
     "metadata": {},
     "output_type": "execute_result"
    }
   ],
   "source": [
    "mystr='phyiscs,maths,english,bio'\n",
    "\n",
    "mystr.split(',')"
   ]
  },
  {
   "cell_type": "code",
   "execution_count": 42,
   "id": "2a9596cd",
   "metadata": {},
   "outputs": [
    {
     "data": {
      "text/plain": [
       "['phyiscs', 'maths-english-bio']"
      ]
     },
     "execution_count": 42,
     "metadata": {},
     "output_type": "execute_result"
    }
   ],
   "source": [
    "mystr='phyiscs+maths-english-bio'\n",
    "\n",
    "mystr.split('+')"
   ]
  },
  {
   "cell_type": "code",
   "execution_count": 24,
   "id": "c67beaf4",
   "metadata": {},
   "outputs": [
    {
     "data": {
      "text/plain": [
       "['phyi', 'c', ',math', ',engli', 'h,bio']"
      ]
     },
     "execution_count": 24,
     "metadata": {},
     "output_type": "execute_result"
    }
   ],
   "source": [
    "mystr.split('s')"
   ]
  },
  {
   "cell_type": "code",
   "execution_count": 25,
   "id": "368b40ea",
   "metadata": {},
   "outputs": [
    {
     "data": {
      "text/plain": [
       "'Hello my name is chatur , i am a studios guy,i am doing chai wala \\n, chai wala was my passion , my cgpa is 3.9 '"
      ]
     },
     "execution_count": 25,
     "metadata": {},
     "output_type": "execute_result"
    }
   ],
   "source": [
    "mystr = \"\"\"Hello my name is chatur , i am a studios guy,i am doing engineering \n",
    ", engineering was my passion , my cgpa is 3.9 \"\"\"\n",
    "\n",
    "mystr.replace('engineering','chai wala')\n"
   ]
  },
  {
   "cell_type": "code",
   "execution_count": 26,
   "id": "6bc593a8",
   "metadata": {},
   "outputs": [
    {
     "data": {
      "text/plain": [
       "'Hello my nbme is chbtur , i bm b studios guy,i bm doing engineering \\n, engineering wbs my pbssion , my cgpb is 3.9 '"
      ]
     },
     "execution_count": 26,
     "metadata": {},
     "output_type": "execute_result"
    }
   ],
   "source": [
    "mystr.replace('a','b')"
   ]
  },
  {
   "cell_type": "code",
   "execution_count": 45,
   "id": "1a052d6f",
   "metadata": {},
   "outputs": [
    {
     "data": {
      "text/plain": [
       "'my name  is john'"
      ]
     },
     "execution_count": 45,
     "metadata": {},
     "output_type": "execute_result"
    }
   ],
   "source": [
    "mystr='my   name    is john'\n",
    "mystr.replace('  ','')"
   ]
  },
  {
   "cell_type": "markdown",
   "id": "0f0cebc3",
   "metadata": {},
   "source": [
    "Concatenation ( addition )"
   ]
  },
  {
   "cell_type": "code",
   "execution_count": 30,
   "id": "5261993e",
   "metadata": {},
   "outputs": [
    {
     "name": "stdout",
     "output_type": "stream",
     "text": [
      "Hello World\n"
     ]
    }
   ],
   "source": [
    "a='Hello'\n",
    "space=' '\n",
    "b='World'\n",
    "\n",
    "c=a+space+b\n",
    "print(c)"
   ]
  },
  {
   "cell_type": "code",
   "execution_count": 31,
   "id": "af92c3a5",
   "metadata": {},
   "outputs": [
    {
     "name": "stdout",
     "output_type": "stream",
     "text": [
      "The data for roll_number123 is not found\n"
     ]
    }
   ],
   "source": [
    "roll_number=123\n",
    "print('The data for roll_number'+str(roll_number)+' is not found')"
   ]
  },
  {
   "cell_type": "markdown",
   "id": "75660cf2",
   "metadata": {},
   "source": [
    "String formatting "
   ]
  },
  {
   "cell_type": "code",
   "execution_count": 32,
   "id": "bc5a5f62",
   "metadata": {},
   "outputs": [
    {
     "name": "stdout",
     "output_type": "stream",
     "text": [
      "The data for roll_number 123 is not found\n"
     ]
    }
   ],
   "source": [
    "roll_number=123\n",
    "print('The data for roll_number {} is not found'.format(roll_number))"
   ]
  },
  {
   "cell_type": "code",
   "execution_count": 40,
   "id": "4ccb0dd3",
   "metadata": {},
   "outputs": [
    {
     "name": "stdout",
     "output_type": "stream",
     "text": [
      "The data for roll_number 123.3 is not found\n"
     ]
    }
   ],
   "source": [
    "roll_number=123.265635348\n",
    "print('The data for roll_number {:.1f} is not found'.format(roll_number))"
   ]
  },
  {
   "cell_type": "code",
   "execution_count": 38,
   "id": "eb5ce42f",
   "metadata": {},
   "outputs": [
    {
     "name": "stdout",
     "output_type": "stream",
     "text": [
      "The data for roll_number 123.265635348        is not found\n"
     ]
    }
   ],
   "source": [
    "roll_number=123.265635348\n",
    "print('The data for roll_number {:<20} is not found'.format(roll_number))"
   ]
  },
  {
   "cell_type": "code",
   "execution_count": 39,
   "id": "11dacd21",
   "metadata": {},
   "outputs": [
    {
     "name": "stdout",
     "output_type": "stream",
     "text": [
      "The data for roll_number        123.265635348 is not found\n"
     ]
    }
   ],
   "source": [
    "roll_number=123.265635348\n",
    "print('The data for roll_number {:>20} is not found'.format(roll_number))"
   ]
  },
  {
   "cell_type": "code",
   "execution_count": null,
   "id": "00a02e34",
   "metadata": {},
   "outputs": [],
   "source": []
  }
 ],
 "metadata": {
  "kernelspec": {
   "display_name": "Python 3 (ipykernel)",
   "language": "python",
   "name": "python3"
  },
  "language_info": {
   "codemirror_mode": {
    "name": "ipython",
    "version": 3
   },
   "file_extension": ".py",
   "mimetype": "text/x-python",
   "name": "python",
   "nbconvert_exporter": "python",
   "pygments_lexer": "ipython3",
   "version": "3.9.13"
  }
 },
 "nbformat": 4,
 "nbformat_minor": 5
}
